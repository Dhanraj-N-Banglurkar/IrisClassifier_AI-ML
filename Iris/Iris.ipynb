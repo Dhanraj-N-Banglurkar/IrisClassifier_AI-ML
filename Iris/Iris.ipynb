{
 "cells": [
  {
   "cell_type": "code",
   "execution_count": 1,
   "id": "f5cca3d4",
   "metadata": {},
   "outputs": [
    {
     "name": "stdout",
     "output_type": "stream",
     "text": [
      "     sepal_length  sepal_width  petal_length  petal_width    species\n",
      "0             5.1          3.5           1.4          0.2     setosa\n",
      "1             4.9          3.0           1.4          0.2     setosa\n",
      "2             4.7          3.2           1.3          0.2     setosa\n",
      "3             4.6          3.1           1.5          0.2     setosa\n",
      "4             5.0          3.6           1.4          0.2     setosa\n",
      "..            ...          ...           ...          ...        ...\n",
      "145           6.7          3.0           5.2          2.3  virginica\n",
      "146           6.3          2.5           5.0          1.9  virginica\n",
      "147           6.5          3.0           5.2          2.0  virginica\n",
      "148           6.2          3.4           5.4          2.3  virginica\n",
      "149           5.9          3.0           5.1          1.8  virginica\n",
      "\n",
      "[150 rows x 5 columns]\n"
     ]
    }
   ],
   "source": [
    "import pandas as pd \n",
    "import numpy as np\n",
    "from sklearn.model_selection import train_test_split\n",
    "### READING DATA ###\n",
    "iris_data = pd.read_csv(r'C:\\Users\\Dhanraj Banglurkar\\Downloads\\iris.csv')\n",
    "print(iris_data)"
   ]
  },
  {
   "cell_type": "code",
   "execution_count": 2,
   "id": "77a443ab",
   "metadata": {},
   "outputs": [
    {
     "name": "stdout",
     "output_type": "stream",
     "text": [
      "     sepal_length  sepal_width  petal_length  petal_width\n",
      "0             5.1          3.5           1.4          0.2\n",
      "1             4.9          3.0           1.4          0.2\n",
      "2             4.7          3.2           1.3          0.2\n",
      "3             4.6          3.1           1.5          0.2\n",
      "4             5.0          3.6           1.4          0.2\n",
      "..            ...          ...           ...          ...\n",
      "145           6.7          3.0           5.2          2.3\n",
      "146           6.3          2.5           5.0          1.9\n",
      "147           6.5          3.0           5.2          2.0\n",
      "148           6.2          3.4           5.4          2.3\n",
      "149           5.9          3.0           5.1          1.8\n",
      "\n",
      "[150 rows x 4 columns]\n",
      "virginica\n"
     ]
    }
   ],
   "source": [
    "### SPLITTING DATA INTO KNOWN & UNKNOWN(To be Found) ###\n",
    "X = iris_data.iloc[:, :-1]\n",
    "y = iris_data.iloc[:, -1]\n",
    "print(X)\n",
    "print(y[128])"
   ]
  },
  {
   "cell_type": "code",
   "execution_count": 3,
   "id": "22f6bb6a",
   "metadata": {},
   "outputs": [
    {
     "name": "stdout",
     "output_type": "stream",
     "text": [
      "<class 'pandas.core.frame.DataFrame'>\n",
      "150\n"
     ]
    }
   ],
   "source": [
    "print(type(X))\n",
    "print(len(y))"
   ]
  },
  {
   "cell_type": "code",
   "execution_count": 4,
   "id": "449f0e04",
   "metadata": {},
   "outputs": [
    {
     "name": "stdout",
     "output_type": "stream",
     "text": [
      "120\n",
      "30\n"
     ]
    }
   ],
   "source": [
    "### SPLITTING DATA FOR TRAINING & TESTING ###\n",
    "X_train, X_test, y_train, y_test = train_test_split(X, y, test_size=0.2)\n",
    "print(len(y_train))\n",
    "print(len(y_test))"
   ]
  },
  {
   "cell_type": "code",
   "execution_count": 5,
   "id": "796b5d13",
   "metadata": {},
   "outputs": [
    {
     "name": "stdout",
     "output_type": "stream",
     "text": [
      "Accuracy: 100.0\n"
     ]
    }
   ],
   "source": [
    "### USING DECISION TREE TO TRAIN MODEL ###\n",
    "from sklearn.tree import DecisionTreeClassifier\n",
    "d = DecisionTreeClassifier()\n",
    "d.fit(X_train, y_train)\n",
    "y_pred = d.predict(X_test)\n",
    "from sklearn.metrics import accuracy_score\n",
    "print('Accuracy:',((accuracy_score(y_test, y_pred))*100))"
   ]
  },
  {
   "cell_type": "code",
   "execution_count": 6,
   "id": "f6f6ad95",
   "metadata": {},
   "outputs": [
    {
     "name": "stdout",
     "output_type": "stream",
     "text": [
      "Accuracy: 100.0\n"
     ]
    }
   ],
   "source": [
    "### USING DECISION TREE WITH CONSTRAINTS TO TRAIN MODEL ###\n",
    "from sklearn.tree import DecisionTreeClassifier\n",
    "d1 = DecisionTreeClassifier(criterion=\"entropy\",max_depth=3)\n",
    "d1.fit(X_train, y_train)\n",
    "y_pred = d.predict(X_test)\n",
    "from sklearn.metrics import accuracy_score\n",
    "accuracy =((accuracy_score(y_test, y_pred))*100)\n",
    "print('Accuracy:', accuracy)\n"
   ]
  },
  {
   "cell_type": "code",
   "execution_count": 7,
   "id": "eba41a92",
   "metadata": {},
   "outputs": [
    {
     "name": "stdout",
     "output_type": "stream",
     "text": [
      "Accuracy: 100.0\n"
     ]
    }
   ],
   "source": [
    "### USING RANDOM FOREST ALGO TO TRAIN MODEL ###\n",
    "from sklearn.ensemble import RandomForestClassifier\n",
    "clf = RandomForestClassifier(n_estimators=200)\n",
    "clf.fit(X_train, y_train)\n",
    "y_pred = clf.predict(X_test)\n",
    "from sklearn import metrics\n",
    "print(\"Accuracy:\",(metrics.accuracy_score(y_test,y_pred))*100)"
   ]
  },
  {
   "cell_type": "code",
   "execution_count": 8,
   "id": "c64fce15",
   "metadata": {},
   "outputs": [],
   "source": [
    "###### FUNCTION TO PREDICT SPECIES OF IRIS ######\n",
    "#### USING NUMPY ####\n",
    "# def species_predict(sepal_length, sepal_width, petal_length, petal_width):\n",
    "#     x=np.zeros(len(X.columns))\n",
    "#     x[0]=sepal_length \n",
    "#     x[1]=sepal_width \n",
    "#     x[2]=petal_length\n",
    "#     x[3]=petal_width\n",
    "#     return d.predict([x])[0]\n",
    "\n",
    "#### USING PANDAS ####\n",
    "def species_predict1(sepal_length, sepal_width, petal_length, petal_width):\n",
    "    x = pd.DataFrame([[sepal_length, sepal_width, petal_length, petal_width]], columns=X.columns)\n",
    "    return d.predict(x)[0]\n",
    "\n",
    "def species_predict2(sepal_length, sepal_width, petal_length, petal_width):\n",
    "    x = pd.DataFrame([[sepal_length, sepal_width, petal_length, petal_width]], columns=X.columns)\n",
    "    return d1.predict(x)[0]\n",
    "\n",
    "def species_predict3(sepal_length, sepal_width, petal_length, petal_width):\n",
    "    x = pd.DataFrame([[sepal_length, sepal_width, petal_length, petal_width]], columns=X.columns)\n",
    "    return clf.predict(x)[0]"
   ]
  },
  {
   "cell_type": "code",
   "execution_count": 9,
   "id": "52b21b64",
   "metadata": {},
   "outputs": [
    {
     "name": "stdout",
     "output_type": "stream",
     "text": [
      "Model-1 --->  setosa\n",
      "Model-2 --->  setosa\n",
      "Model-3 --->  setosa\n"
     ]
    }
   ],
   "source": [
    "print('Model-1 ---> ',species_predict1(4.9,3.0,1.4,0.2))\n",
    "print('Model-2 ---> ',species_predict2(4.9,3.0,1.4,0.2))\n",
    "print('Model-3 ---> ',species_predict3(4.9,3.0,1.4,0.2))"
   ]
  },
  {
   "cell_type": "code",
   "execution_count": 10,
   "id": "5f2b427c",
   "metadata": {},
   "outputs": [
    {
     "name": "stdout",
     "output_type": "stream",
     "text": [
      "Model-1 --->  virginica\n",
      "Model-2 --->  virginica\n",
      "Model-3 --->  virginica\n"
     ]
    }
   ],
   "source": [
    "print('Model-1 ---> ',species_predict1(6.2,3.4,5.4,2.3))\n",
    "print('Model-2 ---> ',species_predict2(6.2,3.4,5.4,2.3))\n",
    "print('Model-3 ---> ',species_predict3(6.2,3.4,5.4,2.3))"
   ]
  },
  {
   "cell_type": "code",
   "execution_count": 11,
   "id": "f8a358ae",
   "metadata": {},
   "outputs": [
    {
     "name": "stdout",
     "output_type": "stream",
     "text": [
      "Model-1 --->  versicolor\n",
      "Model-2 --->  virginica\n",
      "Model-3 --->  virginica\n"
     ]
    }
   ],
   "source": [
    "print('Model-1 ---> ',species_predict1(5,2,3,3))\n",
    "print('Model-2 ---> ',species_predict2(5,2,3,3))\n",
    "print('Model-3 ---> ',species_predict3(5,2,3,3))"
   ]
  },
  {
   "cell_type": "code",
   "execution_count": null,
   "id": "6a559633",
   "metadata": {},
   "outputs": [],
   "source": []
  }
 ],
 "metadata": {
  "kernelspec": {
   "display_name": "Python 3 (ipykernel)",
   "language": "python",
   "name": "python3"
  },
  "language_info": {
   "codemirror_mode": {
    "name": "ipython",
    "version": 3
   },
   "file_extension": ".py",
   "mimetype": "text/x-python",
   "name": "python",
   "nbconvert_exporter": "python",
   "pygments_lexer": "ipython3",
   "version": "3.11.5"
  }
 },
 "nbformat": 4,
 "nbformat_minor": 5
}
